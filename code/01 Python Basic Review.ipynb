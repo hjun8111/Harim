{
 "cells": [
  {
   "cell_type": "markdown",
   "id": "96237ba2",
   "metadata": {},
   "source": [
    "## 프로그래밍 시작"
   ]
  },
  {
   "cell_type": "markdown",
   "id": "4fab30bb",
   "metadata": {},
   "source": [
    "### 변수명"
   ]
  },
  {
   "cell_type": "code",
   "execution_count": null,
   "id": "434ec47e",
   "metadata": {},
   "outputs": [],
   "source": [
    "# 변수명으로 예약어를 사용할 수 없습니다.\n",
    "# Python 예약어를 확인합니다.\n",
    "help('keywords')"
   ]
  },
  {
   "cell_type": "markdown",
   "id": "manual-advisory",
   "metadata": {},
   "source": [
    "### 객체의 생성과 확인"
   ]
  },
  {
   "cell_type": "code",
   "execution_count": null,
   "id": "extended-owner",
   "metadata": {},
   "outputs": [],
   "source": [
    "# a에 정수 10을 할당합니다.\n",
    "a = 10"
   ]
  },
  {
   "cell_type": "code",
   "execution_count": null,
   "id": "acquired-porcelain",
   "metadata": {},
   "outputs": [],
   "source": [
    "# 변수명만 실행하면 변수가 가리키는 객체를 출력합니다.\n",
    "a"
   ]
  },
  {
   "cell_type": "code",
   "execution_count": null,
   "id": "religious-customer",
   "metadata": {},
   "outputs": [],
   "source": [
    "# print() 함수는 변수가 가리키는 객체를 표준 출력 위치에 출력합니다.\n",
    "print(a)"
   ]
  },
  {
   "cell_type": "code",
   "execution_count": null,
   "id": "american-weekly",
   "metadata": {},
   "outputs": [],
   "source": [
    "# type() 함수는 변수가 가리키는 객체의 클래스를 반환합니다.\n",
    "type(a)"
   ]
  },
  {
   "cell_type": "code",
   "execution_count": null,
   "id": "interim-contribution",
   "metadata": {
    "scrolled": true
   },
   "outputs": [],
   "source": [
    "# dir() 함수는 변수가 갖는 속성과 방식을 리스트로 반환합니다.\n",
    "dir(a)"
   ]
  },
  {
   "cell_type": "markdown",
   "id": "editorial-celebration",
   "metadata": {},
   "source": [
    "### 객체의 속성과 방식에 접근"
   ]
  },
  {
   "cell_type": "code",
   "execution_count": null,
   "id": "impressed-guatemala",
   "metadata": {},
   "outputs": [],
   "source": [
    "# numerator는 int의 속성이며 분자를 출력합니다.\n",
    "a.numerator"
   ]
  },
  {
   "cell_type": "code",
   "execution_count": null,
   "id": "959963fb-312e-4518-b2c2-cb95381b09c4",
   "metadata": {},
   "outputs": [],
   "source": [
    "# denominator는 int의 속성이며 분모를 출력합니다.\n",
    "a.denominator"
   ]
  },
  {
   "cell_type": "code",
   "execution_count": null,
   "id": "smart-estonia",
   "metadata": {},
   "outputs": [],
   "source": [
    "# bit_length는 int의 방식이며 10진수를 2진수로 변환할 때 길이를 반환합니다.\n",
    "a.bit_length()"
   ]
  },
  {
   "cell_type": "markdown",
   "id": "worse-origin",
   "metadata": {},
   "source": [
    "### 수: 정수, 실수"
   ]
  },
  {
   "cell_type": "code",
   "execution_count": null,
   "id": "unlike-vegetation",
   "metadata": {},
   "outputs": [],
   "source": [
    "# a에 정수 3을 할당합니다.\n",
    "a = 3"
   ]
  },
  {
   "cell_type": "code",
   "execution_count": null,
   "id": "designing-diabetes",
   "metadata": {},
   "outputs": [],
   "source": [
    "# a를 출력합니다.\n",
    "a"
   ]
  },
  {
   "cell_type": "code",
   "execution_count": null,
   "id": "convenient-counter",
   "metadata": {},
   "outputs": [],
   "source": [
    "# a의 클래스를 확인합니다. a의 클래스는 int입니다.\n",
    "type(a)"
   ]
  },
  {
   "cell_type": "code",
   "execution_count": null,
   "id": "adjacent-superintendent",
   "metadata": {},
   "outputs": [],
   "source": [
    "# b에 실수 3.0을 할당합니다.\n",
    "b = 3.0"
   ]
  },
  {
   "cell_type": "code",
   "execution_count": null,
   "id": "posted-intention",
   "metadata": {},
   "outputs": [],
   "source": [
    "# b를 출력합니다.\n",
    "b"
   ]
  },
  {
   "cell_type": "code",
   "execution_count": null,
   "id": "received-commerce",
   "metadata": {},
   "outputs": [],
   "source": [
    "# b의 클래스를 확인합니다. b의 클래스는 float입니다.\n",
    "type(b)"
   ]
  },
  {
   "cell_type": "markdown",
   "id": "sustainable-paint",
   "metadata": {},
   "source": [
    "### 산술 연산자"
   ]
  },
  {
   "cell_type": "code",
   "execution_count": null,
   "id": "proper-xerox",
   "metadata": {},
   "outputs": [],
   "source": [
    "# a와 b를 더합니다.\n",
    "a + b"
   ]
  },
  {
   "cell_type": "code",
   "execution_count": null,
   "id": "supported-balance",
   "metadata": {},
   "outputs": [],
   "source": [
    "# a에서 b를 뺍니다.\n",
    "a - b"
   ]
  },
  {
   "cell_type": "code",
   "execution_count": null,
   "id": "gothic-organization",
   "metadata": {},
   "outputs": [],
   "source": [
    "# a와 b를 곱합니다.\n",
    "a * b"
   ]
  },
  {
   "cell_type": "code",
   "execution_count": null,
   "id": "sought-terrace",
   "metadata": {},
   "outputs": [],
   "source": [
    "# a를 b로 거듭제곱합니다.\n",
    "a ** b"
   ]
  },
  {
   "cell_type": "code",
   "execution_count": null,
   "id": "funky-entry",
   "metadata": {},
   "outputs": [],
   "source": [
    "# a를 b로 나눕니다.\n",
    "a / b"
   ]
  },
  {
   "cell_type": "code",
   "execution_count": null,
   "id": "worldwide-experiment",
   "metadata": {},
   "outputs": [],
   "source": [
    "# a를 b로 나눈 나머지를 반환합니다.\n",
    "a % b"
   ]
  },
  {
   "cell_type": "code",
   "execution_count": null,
   "id": "approved-asset",
   "metadata": {},
   "outputs": [],
   "source": [
    "# a를 b로 나눈 몫을 반환합니다.\n",
    "a // b"
   ]
  },
  {
   "cell_type": "markdown",
   "id": "cardiovascular-encounter",
   "metadata": {},
   "source": [
    "### 할당 연산자"
   ]
  },
  {
   "cell_type": "code",
   "execution_count": null,
   "id": "thermal-happiness",
   "metadata": {},
   "outputs": [],
   "source": [
    "# a에 정수 5를 할당하고, a를 출력합니다.\n",
    "a = 5\n",
    "a"
   ]
  },
  {
   "cell_type": "code",
   "execution_count": null,
   "id": "animated-requirement",
   "metadata": {},
   "outputs": [],
   "source": [
    "# a에 1을 더한 값을 a에 재할당하고, a를 출력합니다.\n",
    "a += 1\n",
    "a"
   ]
  },
  {
   "cell_type": "code",
   "execution_count": null,
   "id": "tracked-variance",
   "metadata": {},
   "outputs": [],
   "source": [
    "# a에서 2를 뺀 값을 a에 재할당하고, a를 출력합니다.\n",
    "a -= 2\n",
    "a"
   ]
  },
  {
   "cell_type": "code",
   "execution_count": null,
   "id": "wrapped-bridges",
   "metadata": {},
   "outputs": [],
   "source": [
    "# b에 3을 곱한 값을 b에 재할당하고, b를 출력합니다.\n",
    "b *= 3\n",
    "b"
   ]
  },
  {
   "cell_type": "code",
   "execution_count": null,
   "id": "brief-oliver",
   "metadata": {},
   "outputs": [],
   "source": [
    "# b를 4로 나눈 값을 b에 재할당하고, b를 출력합니다.\n",
    "b /= 4\n",
    "b"
   ]
  },
  {
   "cell_type": "markdown",
   "id": "athletic-hamilton",
   "metadata": {},
   "source": [
    "### 비교 연산자"
   ]
  },
  {
   "cell_type": "code",
   "execution_count": null,
   "id": "competent-revolution",
   "metadata": {},
   "outputs": [],
   "source": [
    "# a가 4보다 크면 True, 작거나 같으면 False를 반환합니다.\n",
    "a > 4"
   ]
  },
  {
   "cell_type": "code",
   "execution_count": null,
   "id": "based-kenya",
   "metadata": {},
   "outputs": [],
   "source": [
    "# a가 4보다 크거나 같으면 True, 작으면 False를 반환합니다.\n",
    "a >= 4"
   ]
  },
  {
   "cell_type": "code",
   "execution_count": null,
   "id": "valuable-charles",
   "metadata": {},
   "outputs": [],
   "source": [
    "# a가 4보다 작으면 True, 크거나 같으면 False를 반환합니다.\n",
    "a < 4"
   ]
  },
  {
   "cell_type": "code",
   "execution_count": null,
   "id": "standing-morning",
   "metadata": {},
   "outputs": [],
   "source": [
    "# a가 4보다 작거나 같으면 True, 크면 False를 반환합니다.\n",
    "a <= 4"
   ]
  },
  {
   "cell_type": "code",
   "execution_count": null,
   "id": "fossil-capture",
   "metadata": {},
   "outputs": [],
   "source": [
    "# a가 4이면 True, 4가 아니면 False를 반환합니다.\n",
    "a == 4"
   ]
  },
  {
   "cell_type": "code",
   "execution_count": null,
   "id": "seasonal-chester",
   "metadata": {},
   "outputs": [],
   "source": [
    "# a가 4가 아니면 True, 4이면 False를 반환합니다.\n",
    "a != 4"
   ]
  },
  {
   "cell_type": "markdown",
   "id": "reverse-therapist",
   "metadata": {},
   "source": [
    "### 논리 연산자"
   ]
  },
  {
   "cell_type": "code",
   "execution_count": null,
   "id": "85591f12",
   "metadata": {},
   "outputs": [],
   "source": [
    "# 비교 연산을 실행하여 True 또는 False를 반환합니다.\n",
    "print(a > 3)\n",
    "print(b > 3)"
   ]
  },
  {
   "cell_type": "code",
   "execution_count": null,
   "id": "suitable-nirvana",
   "metadata": {},
   "outputs": [],
   "source": [
    "# [논리곱] 두 진리값이 모두 True면 True, 아니면 False를 반환합니다.\n",
    "a > 3 and b > 3"
   ]
  },
  {
   "cell_type": "code",
   "execution_count": null,
   "id": "statewide-distance",
   "metadata": {},
   "outputs": [],
   "source": [
    "# [논리합] 두 진리값 중 하나 이상 True면 True, 아니면 False를 반환합니다.\n",
    "a > 3 or b > 3"
   ]
  },
  {
   "cell_type": "code",
   "execution_count": null,
   "id": "1086073d",
   "metadata": {},
   "outputs": [],
   "source": [
    "# [논리부정] not 뒤에 오는 진리값을 반전합니다.\n",
    "not (a > 3 or b > 3)"
   ]
  },
  {
   "cell_type": "markdown",
   "id": "unique-verification",
   "metadata": {},
   "source": [
    "### 문자열"
   ]
  },
  {
   "cell_type": "code",
   "execution_count": null,
   "id": "configured-repository",
   "metadata": {},
   "outputs": [],
   "source": [
    "# str1에 문자열을 할당합니다. 홑따옴표를 사용했습니다.\n",
    "str1 = 'Life is short, '"
   ]
  },
  {
   "cell_type": "code",
   "execution_count": null,
   "id": "indonesian-marking",
   "metadata": {},
   "outputs": [],
   "source": [
    "# str1을 출력합니다.\n",
    "str1"
   ]
  },
  {
   "cell_type": "code",
   "execution_count": null,
   "id": "sublime-trace",
   "metadata": {},
   "outputs": [],
   "source": [
    "# print() 함수를 실행하면 따옴표 없이 글자만 출력합니다.\n",
    "print(str1)"
   ]
  },
  {
   "cell_type": "code",
   "execution_count": null,
   "id": "dangerous-refrigerator",
   "metadata": {},
   "outputs": [],
   "source": [
    "# str1의 클래스를 확인합니다. str1의 클래스는 str입니다.\n",
    "type(str1)"
   ]
  },
  {
   "cell_type": "code",
   "execution_count": null,
   "id": "fewer-aircraft",
   "metadata": {},
   "outputs": [],
   "source": [
    "# str1의 글자수를 반환합니다.\n",
    "len(str1)"
   ]
  },
  {
   "cell_type": "code",
   "execution_count": null,
   "id": "reported-greece",
   "metadata": {},
   "outputs": [],
   "source": [
    "# str2에 문자열을 할당합니다. 겹따옴표를 사용했습니다.\n",
    "str2 = \"you need Python!\""
   ]
  },
  {
   "cell_type": "code",
   "execution_count": null,
   "id": "constitutional-trunk",
   "metadata": {},
   "outputs": [],
   "source": [
    "# str2를 출력합니다.\n",
    "str2"
   ]
  },
  {
   "cell_type": "markdown",
   "id": "authentic-champion",
   "metadata": {},
   "source": [
    "### 문자열 연산자"
   ]
  },
  {
   "cell_type": "code",
   "execution_count": null,
   "id": "split-andorra",
   "metadata": {},
   "outputs": [],
   "source": [
    "# + 연산자는 두 문자열을 결합합니다.\n",
    "# [주의] 수와 문자열을 섞으면 에러를 반환합니다.\n",
    "str1 + str2"
   ]
  },
  {
   "cell_type": "code",
   "execution_count": null,
   "id": "international-bolivia",
   "metadata": {},
   "outputs": [],
   "source": [
    "# * 연산자는 왼쪽 문자열을 오른쪽에 지정한 정수만큼 반복합니다.\n",
    "# [주의] 오른쪽에 실수를 지정하면 에러를 반환합니다.\n",
    "str2 * 3"
   ]
  },
  {
   "cell_type": "code",
   "execution_count": null,
   "id": "offshore-europe",
   "metadata": {},
   "outputs": [],
   "source": [
    "# str1에 문자열 'a'가 있으면 True, 없으면 False를 반환합니다.\n",
    "'a' in str1"
   ]
  },
  {
   "cell_type": "code",
   "execution_count": null,
   "id": "straight-region",
   "metadata": {},
   "outputs": [],
   "source": [
    "# str1에 문자열 'a'가 없으면 True, 있으면 False를 반환합니다.\n",
    "'a' not in str1"
   ]
  },
  {
   "cell_type": "markdown",
   "id": "earlier-circular",
   "metadata": {},
   "source": [
    "### 자료형 변환"
   ]
  },
  {
   "cell_type": "code",
   "execution_count": null,
   "id": "systematic-arrival",
   "metadata": {},
   "outputs": [],
   "source": [
    "# 정수 1을 실수로 변환합니다.\n",
    "float(1)"
   ]
  },
  {
   "cell_type": "code",
   "execution_count": null,
   "id": "beneficial-mailing",
   "metadata": {},
   "outputs": [],
   "source": [
    "# 정수 1을 문자열로 변환합니다.\n",
    "str(1)"
   ]
  },
  {
   "cell_type": "code",
   "execution_count": null,
   "id": "generous-outside",
   "metadata": {},
   "outputs": [],
   "source": [
    "# 실수 1.2를 정수로 변환합니다.\n",
    "int(1.2)"
   ]
  },
  {
   "cell_type": "code",
   "execution_count": null,
   "id": "circular-brand",
   "metadata": {},
   "outputs": [],
   "source": [
    "# 실수 1.2를 문자열로 변환합니다.\n",
    "str(1.2)"
   ]
  },
  {
   "cell_type": "code",
   "execution_count": null,
   "id": "spread-tenant",
   "metadata": {},
   "outputs": [],
   "source": [
    "# 문자열 '1.2'를 실수로 변환합니다.\n",
    "float('1.2')"
   ]
  },
  {
   "cell_type": "raw",
   "id": "cf5c3f98-b590-49df-9027-dbcb5054e5c3",
   "metadata": {},
   "source": [
    "# 문자열 '1.2'를 정수로 변환합니다.\n",
    "# [주의] 소수점 있는 문자열을 정수로 변환할 수 없습니다.\n",
    "int('1.2')"
   ]
  },
  {
   "cell_type": "markdown",
   "id": "junior-peoples",
   "metadata": {},
   "source": [
    "### 문자열 포맷팅"
   ]
  },
  {
   "cell_type": "code",
   "execution_count": null,
   "id": "overall-overview",
   "metadata": {},
   "outputs": [],
   "source": [
    "# name에 문자열, rate에 실수를 할당합니다.\n",
    "name = '홍길동'\n",
    "rate = 3.2"
   ]
  },
  {
   "cell_type": "code",
   "execution_count": null,
   "id": "4b42ea66",
   "metadata": {},
   "outputs": [],
   "source": [
    "# 여러 문자열을 결합합니다.\n",
    "name + ' 고객님의 이자율은 ' + str(rate) + ' %입니다.'"
   ]
  },
  {
   "cell_type": "code",
   "execution_count": null,
   "id": "compound-associate",
   "metadata": {},
   "outputs": [],
   "source": [
    "# 포맷 코드를 사용한 문자열 포맷팅입니다.\n",
    "'%s 고객님의 이자율은 %.2f %%입니다.' %(name, rate)"
   ]
  },
  {
   "cell_type": "code",
   "execution_count": null,
   "id": "sunrise-matter",
   "metadata": {},
   "outputs": [],
   "source": [
    "# format() 함수는 포맷 코드 대신 중괄호를 사용합니다.\n",
    "# 중괄호에 변수값을 순서대로 대입합니다.\n",
    "'{0} 고객님의 이자율은 {1:.2f} %입니다.'.format(name, rate)"
   ]
  },
  {
   "cell_type": "code",
   "execution_count": null,
   "id": "sound-rings",
   "metadata": {},
   "outputs": [],
   "source": [
    "# Python 3.6에서 도입한 f-문자열을 사용하면 코드 가독성을 높일 수 있습니다.\n",
    "f'{name} 고객님의 이자율은 {rate:.2f} %입니다.'"
   ]
  },
  {
   "cell_type": "markdown",
   "id": "applicable-vulnerability",
   "metadata": {},
   "source": [
    "### 부울"
   ]
  },
  {
   "cell_type": "code",
   "execution_count": null,
   "id": "ranging-alexandria",
   "metadata": {},
   "outputs": [],
   "source": [
    "# t에 True를 할당합니다. [주의] 따옴표로 감싸면 문자열이 됩니다.\n",
    "t = True"
   ]
  },
  {
   "cell_type": "code",
   "execution_count": null,
   "id": "multiple-reggae",
   "metadata": {},
   "outputs": [],
   "source": [
    "# t의 클래스를 확인합니다. t의 클래스는 bool입니다.\n",
    "type(t)"
   ]
  },
  {
   "cell_type": "code",
   "execution_count": null,
   "id": "b6514678",
   "metadata": {},
   "outputs": [],
   "source": [
    "# True는 정수 1, False는 정수 0이므로 진리값을 더하면 True 개수를 반환합니다.\n",
    "True + False"
   ]
  },
  {
   "cell_type": "code",
   "execution_count": null,
   "id": "macro-burden",
   "metadata": {},
   "outputs": [],
   "source": [
    "# 어떤 객체에 값 또는 원소가 있으면 True, 없으면 False를 반환합니다.\n",
    "bool(1)"
   ]
  },
  {
   "cell_type": "markdown",
   "id": "coastal-potter",
   "metadata": {},
   "source": [
    "### 리스트"
   ]
  },
  {
   "cell_type": "code",
   "execution_count": null,
   "id": "important-receiver",
   "metadata": {
    "ExecuteTime": {
     "end_time": "2022-06-12T06:39:00.528353Z",
     "start_time": "2022-06-12T06:39:00.517159Z"
    }
   },
   "outputs": [],
   "source": [
    "# 빈 리스트를 생성합니다. 리스트를 생성할 때 대괄호 안에 원소를 콤마로 나열합니다. \n",
    "lst1 = []\n",
    "lst1\n",
    "\n",
    "# [참고] 위 코드는 lst1 = list()를 실행한 결과와 같습니다."
   ]
  },
  {
   "cell_type": "code",
   "execution_count": null,
   "id": "intense-wallace",
   "metadata": {
    "ExecuteTime": {
     "end_time": "2022-06-12T06:39:00.533431Z",
     "start_time": "2022-06-12T06:39:00.530363Z"
    }
   },
   "outputs": [],
   "source": [
    "# lst1의 클래스를 확인합니다. lst1의 클래스는 list입니다.\n",
    "type(lst1)"
   ]
  },
  {
   "cell_type": "code",
   "execution_count": null,
   "id": "00d8dbf9",
   "metadata": {
    "scrolled": true
   },
   "outputs": [],
   "source": [
    "# lst1의 속성과 방식을 리스트로 반환합니다.\n",
    "dir(lst1)"
   ]
  },
  {
   "cell_type": "code",
   "execution_count": null,
   "id": "happy-handle",
   "metadata": {
    "ExecuteTime": {
     "end_time": "2022-06-12T06:39:00.548665Z",
     "start_time": "2022-06-12T06:39:00.545514Z"
    }
   },
   "outputs": [],
   "source": [
    "# 리스트는 원소를 입력한 순서를 유지하며, 다양한 자료형을 원소로 가질 수 있습니다.\n",
    "lst2 = [1, 2.0, '3']\n",
    "lst2"
   ]
  },
  {
   "cell_type": "code",
   "execution_count": null,
   "id": "e8099c6d",
   "metadata": {
    "ExecuteTime": {
     "end_time": "2022-06-12T06:39:00.543976Z",
     "start_time": "2022-06-12T06:39:00.540721Z"
    }
   },
   "outputs": [],
   "source": [
    "# 리스트의 길이(원소 개수)를 반환합니다. [참고] 문자열은 글자수를 반환합니다.\n",
    "len(lst2)"
   ]
  },
  {
   "cell_type": "code",
   "execution_count": null,
   "id": "innocent-hydrogen",
   "metadata": {
    "ExecuteTime": {
     "end_time": "2022-06-12T06:39:00.538238Z",
     "start_time": "2022-06-12T06:39:00.535027Z"
    }
   },
   "outputs": [],
   "source": [
    "# 리스트는 원소의 중복을 허용합니다.\n",
    "lst3 = [1, 5, 3, 3]\n",
    "lst3"
   ]
  },
  {
   "cell_type": "markdown",
   "id": "living-cornwall",
   "metadata": {},
   "source": [
    "### 리스트 연산자"
   ]
  },
  {
   "cell_type": "code",
   "execution_count": null,
   "id": "systematic-complexity",
   "metadata": {
    "ExecuteTime": {
     "end_time": "2022-06-12T06:39:00.558165Z",
     "start_time": "2022-06-12T06:39:00.555119Z"
    }
   },
   "outputs": [],
   "source": [
    "# + 연산자는 두 리스트를 결합합니다.\n",
    "lst2 + lst3"
   ]
  },
  {
   "cell_type": "code",
   "execution_count": null,
   "id": "accompanied-cross",
   "metadata": {
    "ExecuteTime": {
     "end_time": "2022-06-12T06:39:00.562838Z",
     "start_time": "2022-06-12T06:39:00.559750Z"
    }
   },
   "outputs": [],
   "source": [
    "# * 연산자는 왼쪽 리스트를 오른쪽에 지정한 정수만큼 반복합니다.\n",
    "lst3 * 2"
   ]
  },
  {
   "cell_type": "code",
   "execution_count": null,
   "id": "behind-folks",
   "metadata": {
    "ExecuteTime": {
     "end_time": "2022-06-12T06:39:00.567586Z",
     "start_time": "2022-06-12T06:39:00.564538Z"
    }
   },
   "outputs": [],
   "source": [
    "# lst3의 원소 중에 정수 1이 있으면 True, 없으면 False를 반환합니다.\n",
    "1 in lst3"
   ]
  },
  {
   "cell_type": "code",
   "execution_count": null,
   "id": "automated-broad",
   "metadata": {
    "ExecuteTime": {
     "end_time": "2022-06-12T06:39:00.574600Z",
     "start_time": "2022-06-12T06:39:00.571261Z"
    }
   },
   "outputs": [],
   "source": [
    "# lst3의 원소 중에 정수 1이 없으면 True, 있으면 False를 반환합니다.\n",
    "1 not in lst3"
   ]
  },
  {
   "cell_type": "markdown",
   "id": "cognitive-survey",
   "metadata": {},
   "source": [
    "### 리스트 인덱싱"
   ]
  },
  {
   "cell_type": "code",
   "execution_count": null,
   "id": "naked-interface",
   "metadata": {
    "ExecuteTime": {
     "end_time": "2022-06-12T06:39:00.578380Z",
     "start_time": "2022-06-12T06:39:00.576154Z"
    }
   },
   "outputs": [],
   "source": [
    "# 실습할 리스트를 생성합니다.\n",
    "lst4 = [1, 2, '3', '4', ['가', '나', '다']]"
   ]
  },
  {
   "cell_type": "code",
   "execution_count": null,
   "id": "careful-suffering",
   "metadata": {
    "ExecuteTime": {
     "end_time": "2022-06-12T06:39:00.583058Z",
     "start_time": "2022-06-12T06:39:00.580015Z"
    }
   },
   "outputs": [],
   "source": [
    "# lst4의 0번과 1번 인덱스 원소를 더합니다.\n",
    "lst4[0] + lst4[1]"
   ]
  },
  {
   "cell_type": "code",
   "execution_count": null,
   "id": "acute-charter",
   "metadata": {
    "ExecuteTime": {
     "end_time": "2022-06-12T06:39:00.587759Z",
     "start_time": "2022-06-12T06:39:00.584579Z"
    }
   },
   "outputs": [],
   "source": [
    "# lst4의 2번과 3번 인덱스 원소를 결합합니다.\n",
    "lst4[2] + lst4[3]"
   ]
  },
  {
   "cell_type": "code",
   "execution_count": null,
   "id": "adjusted-cincinnati",
   "metadata": {
    "ExecuteTime": {
     "end_time": "2022-06-12T06:39:00.592424Z",
     "start_time": "2022-06-12T06:39:00.589381Z"
    }
   },
   "outputs": [],
   "source": [
    "# lst4의 4번 인덱스 원소는 리스트이므로 대괄호를 추가하면 리스트 원소를 반환합니다.\n",
    "lst4[4][0]"
   ]
  },
  {
   "cell_type": "markdown",
   "id": "desperate-television",
   "metadata": {},
   "source": [
    "### 리스트 슬라이싱"
   ]
  },
  {
   "cell_type": "code",
   "execution_count": null,
   "id": "received-cabinet",
   "metadata": {
    "ExecuteTime": {
     "end_time": "2022-06-12T06:39:00.597075Z",
     "start_time": "2022-06-12T06:39:00.593985Z"
    }
   },
   "outputs": [],
   "source": [
    "# lst4의 0~1번 인덱스 원소를 선택하고 리스트로 반환합니다.\n",
    "lst4[0:2]"
   ]
  },
  {
   "cell_type": "code",
   "execution_count": null,
   "id": "brief-symphony",
   "metadata": {
    "ExecuteTime": {
     "end_time": "2022-06-12T06:39:00.601748Z",
     "start_time": "2022-06-12T06:39:00.598731Z"
    }
   },
   "outputs": [],
   "source": [
    "# lst4의 2~3번 인덱스 원소를 선택하고 리스트로 반환합니다.\n",
    "lst4[2:4]"
   ]
  },
  {
   "cell_type": "code",
   "execution_count": null,
   "id": "unable-distinction",
   "metadata": {
    "ExecuteTime": {
     "end_time": "2022-06-12T06:39:00.606213Z",
     "start_time": "2022-06-12T06:39:00.603318Z"
    }
   },
   "outputs": [],
   "source": [
    "# lst4의 0~3번 인덱스 원소를 선택하고 리스트로 반환합니다.\n",
    "lst4[:4]"
   ]
  },
  {
   "cell_type": "code",
   "execution_count": null,
   "id": "elect-apparel",
   "metadata": {
    "ExecuteTime": {
     "end_time": "2022-06-12T06:39:00.610956Z",
     "start_time": "2022-06-12T06:39:00.607883Z"
    }
   },
   "outputs": [],
   "source": [
    "# lst4의 4번~마지막 원소를 선택하고 리스트로 반환합니다.\n",
    "lst4[4:]"
   ]
  },
  {
   "cell_type": "markdown",
   "id": "beneficial-horizontal",
   "metadata": {},
   "source": [
    "### [참고] 리스트 인덱싱 및 슬라이싱 관련 주의사항"
   ]
  },
  {
   "cell_type": "raw",
   "id": "09ab314e",
   "metadata": {},
   "source": [
    "# 대괄호 안에 아무것도 지정하지 않으면 에러를 반환합니다.\n",
    "lst4[]"
   ]
  },
  {
   "cell_type": "code",
   "execution_count": null,
   "id": "pointed-investor",
   "metadata": {
    "ExecuteTime": {
     "end_time": "2022-06-12T06:39:00.615449Z",
     "start_time": "2022-06-12T06:39:00.612576Z"
    }
   },
   "outputs": [],
   "source": [
    "# 빈 콜론을 지정하면 리스트의 전체 원소를 리스트로 반환합니다.\n",
    "lst4[:]"
   ]
  },
  {
   "cell_type": "code",
   "execution_count": null,
   "id": "applied-mechanism",
   "metadata": {
    "ExecuteTime": {
     "end_time": "2022-06-12T06:39:00.619987Z",
     "start_time": "2022-06-12T06:39:00.616890Z"
    }
   },
   "outputs": [],
   "source": [
    "# 대괄호 안에 인덱스를 스칼라(길이가 1인 값)로 지정하면 해당 원소를 본래 자료형으로 반환합니다.\n",
    "lst4[0]"
   ]
  },
  {
   "cell_type": "code",
   "execution_count": null,
   "id": "therapeutic-ballet",
   "metadata": {
    "ExecuteTime": {
     "end_time": "2022-06-12T06:39:00.624818Z",
     "start_time": "2022-06-12T06:39:00.621713Z"
    }
   },
   "outputs": [],
   "source": [
    "# 대괄호 안에 콜론을 사용한 슬라이스를 지정하면 항상 리스트로 반환합니다.\n",
    "lst4[0:1]"
   ]
  },
  {
   "cell_type": "raw",
   "id": "5e58701f",
   "metadata": {},
   "source": [
    "# 대괄호 안에 리스트를 지정하면 에러를 반환합니다.\n",
    "# [주의] 대괄호 안에 인덱스 스칼라 또는 콜론으로 연결한 슬라이스만 지정할 수 있습니다.\n",
    "lst4[[0, 2]]"
   ]
  },
  {
   "cell_type": "code",
   "execution_count": null,
   "id": "1aca7862",
   "metadata": {
    "ExecuteTime": {
     "end_time": "2022-06-12T06:39:00.633245Z",
     "start_time": "2022-06-12T06:39:00.630113Z"
    }
   },
   "outputs": [],
   "source": [
    "# 위 코드 대신 리스트의 0번과 2번 인덱스 원소를 선택하고 리스트로 반환합니다.\n",
    "[lst4[0], lst4[2]]"
   ]
  },
  {
   "cell_type": "markdown",
   "id": "funded-haiti",
   "metadata": {},
   "source": [
    "### range() 함수 사용법"
   ]
  },
  {
   "cell_type": "code",
   "execution_count": null,
   "id": "false-occupation",
   "metadata": {
    "ExecuteTime": {
     "end_time": "2022-06-12T06:39:00.637966Z",
     "start_time": "2022-06-12T06:39:00.634967Z"
    }
   },
   "outputs": [],
   "source": [
    "# 0부터 5까지 연속된 정수를 lst5에 할당합니다.\n",
    "lst5 = range(6)\n",
    "lst5"
   ]
  },
  {
   "cell_type": "code",
   "execution_count": null,
   "id": "retained-creation",
   "metadata": {
    "ExecuteTime": {
     "end_time": "2022-06-12T06:39:00.642571Z",
     "start_time": "2022-06-12T06:39:00.639611Z"
    }
   },
   "outputs": [],
   "source": [
    "# lst5의 클래스를 확인합니다. lst5의 클래스는 range입니다.\n",
    "type(lst5)"
   ]
  },
  {
   "cell_type": "code",
   "execution_count": null,
   "id": "institutional-leadership",
   "metadata": {
    "ExecuteTime": {
     "end_time": "2022-06-12T06:39:00.647521Z",
     "start_time": "2022-06-12T06:39:00.644260Z"
    }
   },
   "outputs": [],
   "source": [
    "# lst5를 리스트로 변환하여 lst5에 재할당합니다.\n",
    "lst5 = list(lst5)\n",
    "lst5"
   ]
  },
  {
   "cell_type": "code",
   "execution_count": null,
   "id": "5e22382a",
   "metadata": {
    "ExecuteTime": {
     "end_time": "2022-06-12T06:39:00.652194Z",
     "start_time": "2022-06-12T06:39:00.649262Z"
    }
   },
   "outputs": [],
   "source": [
    "# lst5의 클래스를 확인합니다. lst5의 클래스는 list입니다.\n",
    "type(lst5)"
   ]
  },
  {
   "cell_type": "code",
   "execution_count": null,
   "id": "tough-accounting",
   "metadata": {
    "ExecuteTime": {
     "end_time": "2022-06-12T06:39:00.657143Z",
     "start_time": "2022-06-12T06:39:00.653799Z"
    }
   },
   "outputs": [],
   "source": [
    "# 0이 아닌 정수로 시작하려면 range() 함수에 시작과 끝+1 정수를 지정합니다.\n",
    "list(range(1, 6))"
   ]
  },
  {
   "cell_type": "code",
   "execution_count": null,
   "id": "chief-herald",
   "metadata": {
    "ExecuteTime": {
     "end_time": "2022-06-12T06:39:00.661927Z",
     "start_time": "2022-06-12T06:39:00.658766Z"
    }
   },
   "outputs": [],
   "source": [
    "# 간격을 설정하려면 range() 함수에 시작, 끝+1 및 간격을 지정합니다.\n",
    "list(range(1, 11, 2))"
   ]
  },
  {
   "cell_type": "markdown",
   "id": "expressed-inflation",
   "metadata": {},
   "source": [
    "### 리스트 원소 추가, 삭제 또는 변경"
   ]
  },
  {
   "cell_type": "code",
   "execution_count": null,
   "id": "c12e0e8d",
   "metadata": {},
   "outputs": [],
   "source": [
    "# lst5의 마지막 원소로 정수 6을 추가합니다.\n",
    "lst5.append(6)\n",
    "lst5"
   ]
  },
  {
   "cell_type": "code",
   "execution_count": null,
   "id": "simplified-artwork",
   "metadata": {
    "ExecuteTime": {
     "end_time": "2022-06-12T06:39:00.695428Z",
     "start_time": "2022-06-12T06:39:00.692204Z"
    }
   },
   "outputs": [],
   "source": [
    "# lst5의 마지막 원소로 리스트 [6, 7]을 추가합니다.\n",
    "lst5.append([6, 7])\n",
    "lst5"
   ]
  },
  {
   "cell_type": "code",
   "execution_count": null,
   "id": "canadian-anniversary",
   "metadata": {
    "ExecuteTime": {
     "end_time": "2022-06-12T06:39:00.700160Z",
     "start_time": "2022-06-12T06:39:00.697094Z"
    }
   },
   "outputs": [],
   "source": [
    "# lst5에서 원소 [6, 7]을 삭제합니다.\n",
    "lst5.remove([6, 7])\n",
    "lst5"
   ]
  },
  {
   "cell_type": "code",
   "execution_count": null,
   "id": "dangerous-clarity",
   "metadata": {
    "ExecuteTime": {
     "end_time": "2022-06-12T06:39:00.734095Z",
     "start_time": "2022-06-12T06:39:00.730874Z"
    }
   },
   "outputs": [],
   "source": [
    "# lst5의 1번 인덱스 원소를 정수 6으로 변경합니다.\n",
    "lst5[1] = 6\n",
    "lst5"
   ]
  },
  {
   "cell_type": "code",
   "execution_count": null,
   "id": "laughing-bradford",
   "metadata": {
    "ExecuteTime": {
     "end_time": "2022-06-12T06:39:00.743699Z",
     "start_time": "2022-06-12T06:39:00.740435Z"
    }
   },
   "outputs": [],
   "source": [
    "# lst5의 2번 인덱스 원소를 리스트 [3, 4]로 변경합니다.\n",
    "lst5[2] = [3, 4]\n",
    "lst5"
   ]
  },
  {
   "cell_type": "markdown",
   "id": "joined-platform",
   "metadata": {},
   "source": [
    "### 튜플"
   ]
  },
  {
   "cell_type": "code",
   "execution_count": null,
   "id": "internal-lease",
   "metadata": {
    "ExecuteTime": {
     "end_time": "2022-06-12T06:39:00.786974Z",
     "start_time": "2022-06-12T06:39:00.783761Z"
    }
   },
   "outputs": [],
   "source": [
    "# 튜플을 생성합니다. 튜플을 생성할 때 소괄호 안에 원소를 콤마로 나열하며,\n",
    "# 소괄호로 묶지 않아도 튜플로 자동 패킹합니다.\n",
    "tup = (1, 2.0, '3')\n",
    "tup"
   ]
  },
  {
   "cell_type": "code",
   "execution_count": null,
   "id": "unlike-bracelet",
   "metadata": {
    "ExecuteTime": {
     "end_time": "2022-06-12T06:39:00.791441Z",
     "start_time": "2022-06-12T06:39:00.788517Z"
    }
   },
   "outputs": [],
   "source": [
    "# tup의 클래스를 확인합니다. tup의 클래스는 tuple입니다.\n",
    "type(tup)"
   ]
  },
  {
   "cell_type": "code",
   "execution_count": null,
   "id": "ec13e160",
   "metadata": {
    "scrolled": true
   },
   "outputs": [],
   "source": [
    "# tup의 속성과 방식을 리스트로 반환합니다.\n",
    "# [참고] 튜플에 원소를 추가하거나 삭제하는 방식이 없습니다.\n",
    "dir(tup)"
   ]
  },
  {
   "cell_type": "raw",
   "id": "f5e18388",
   "metadata": {},
   "source": [
    "# 튜플은 원소를 할당할 수 없으므로 에러를 반환합니다.\n",
    "tup[2] = 3"
   ]
  },
  {
   "cell_type": "code",
   "execution_count": null,
   "id": "insured-criminal",
   "metadata": {
    "ExecuteTime": {
     "end_time": "2022-06-12T06:39:00.795997Z",
     "start_time": "2022-06-12T06:39:00.793017Z"
    }
   },
   "outputs": [],
   "source": [
    "# tuple() 클래스 함수는 리스트를 튜플로 변환합니다.\n",
    "tuple(lst2)"
   ]
  },
  {
   "cell_type": "code",
   "execution_count": null,
   "id": "842ab841",
   "metadata": {
    "ExecuteTime": {
     "end_time": "2022-06-12T06:39:00.800283Z",
     "start_time": "2022-06-12T06:39:00.797647Z"
    }
   },
   "outputs": [],
   "source": [
    "# list() 클래스 함수는 튜플을 리스트로 변환합니다.\n",
    "list(tup)"
   ]
  },
  {
   "cell_type": "markdown",
   "id": "varying-northern",
   "metadata": {},
   "source": [
    "### 딕셔너리"
   ]
  },
  {
   "cell_type": "code",
   "execution_count": null,
   "id": "protected-unknown",
   "metadata": {
    "ExecuteTime": {
     "end_time": "2022-06-12T06:39:00.805083Z",
     "start_time": "2022-06-12T06:39:00.801784Z"
    }
   },
   "outputs": [],
   "source": [
    "# 딕셔너리를 생성합니다. 딕셔너리를 생성할 때 중괄호 안에 'key': value를 콤마로 연결합니다.\n",
    "dct = {'item': 'pants', 'size': ['S', 'M']}\n",
    "dct"
   ]
  },
  {
   "cell_type": "code",
   "execution_count": null,
   "id": "three-classics",
   "metadata": {
    "ExecuteTime": {
     "end_time": "2022-06-12T06:39:00.809436Z",
     "start_time": "2022-06-12T06:39:00.806718Z"
    }
   },
   "outputs": [],
   "source": [
    "# dct의 클래스를 확인합니다. dct의 클래스는 dict입니다.\n",
    "type(dct)"
   ]
  },
  {
   "cell_type": "code",
   "execution_count": null,
   "id": "b3035f1a",
   "metadata": {
    "scrolled": true
   },
   "outputs": [],
   "source": [
    "# dct의 속성과 방식을 리스트로 반환합니다.\n",
    "dir(dct)"
   ]
  },
  {
   "cell_type": "raw",
   "id": "dd9fad1c",
   "metadata": {},
   "source": [
    "# 딕셔너리는 인덱스가 없으므로 에러를 반환합니다.\n",
    "# [참고] 만약 딕셔너리의 키에 정수 0이 있으면 정상적으로 실행됩니다.\n",
    "dct[0]"
   ]
  },
  {
   "cell_type": "code",
   "execution_count": null,
   "id": "1840bf1d",
   "metadata": {
    "ExecuteTime": {
     "end_time": "2022-06-12T06:39:00.814271Z",
     "start_time": "2022-06-12T06:39:00.811039Z"
    }
   },
   "outputs": [],
   "source": [
    "# 같은 값을 원소로 갖는 리스트와 비교합니다.\n",
    "lst = ['pants', ['S', 'M', 'L']]\n",
    "lst"
   ]
  },
  {
   "cell_type": "code",
   "execution_count": null,
   "id": "c6435c26",
   "metadata": {},
   "outputs": [],
   "source": [
    "# 리스트는 인덱스가 있으므로 인덱싱할 수 있습니다.\n",
    "lst[0]"
   ]
  },
  {
   "cell_type": "markdown",
   "id": "strategic-flood",
   "metadata": {},
   "source": [
    "### 딕셔너리 연산자와 인덱싱"
   ]
  },
  {
   "cell_type": "code",
   "execution_count": null,
   "id": "forced-ebony",
   "metadata": {
    "ExecuteTime": {
     "end_time": "2022-06-12T06:39:00.829659Z",
     "start_time": "2022-06-12T06:39:00.826001Z"
    }
   },
   "outputs": [],
   "source": [
    "# dct에 'item'인 키가 있으면 True, 없으면 False를 반환합니다.\n",
    "'item' in dct"
   ]
  },
  {
   "cell_type": "code",
   "execution_count": null,
   "id": "be17cdf5",
   "metadata": {
    "ExecuteTime": {
     "end_time": "2022-06-12T06:39:00.837055Z",
     "start_time": "2022-06-12T06:39:00.831647Z"
    }
   },
   "outputs": [],
   "source": [
    "# dct에 'shop'인 키가 있으면 True, 없으면 False를 반환합니다.\n",
    "'shop' in dct"
   ]
  },
  {
   "cell_type": "code",
   "execution_count": null,
   "id": "elegant-patent",
   "metadata": {
    "ExecuteTime": {
     "end_time": "2022-06-12T06:39:00.842285Z",
     "start_time": "2022-06-12T06:39:00.839114Z"
    }
   },
   "outputs": [],
   "source": [
    "# dct에서 키가 'item'인 값을 반환합니다.\n",
    "dct['item']"
   ]
  },
  {
   "cell_type": "raw",
   "id": "a38ec196",
   "metadata": {},
   "source": [
    "# dct에서 키가 'shop'인 값을 반환합니다. \n",
    "# [주의] 딕셔너리에 없는 키를 입력하면 에러를 반환합니다.\n",
    "dct['shop']"
   ]
  },
  {
   "cell_type": "markdown",
   "id": "armed-african",
   "metadata": {},
   "source": [
    "### 딕셔너리 원소 추가, 삭제 또는 변경"
   ]
  },
  {
   "cell_type": "code",
   "execution_count": null,
   "id": "julian-ocean",
   "metadata": {
    "ExecuteTime": {
     "end_time": "2022-06-12T06:39:00.852670Z",
     "start_time": "2022-06-12T06:39:00.849270Z"
    }
   },
   "outputs": [],
   "source": [
    "# dct에 키가 'shop'이고 값이 'A1'인 원소를 추가합니다.\n",
    "dct['shop'] = 'A1'\n",
    "dct"
   ]
  },
  {
   "cell_type": "code",
   "execution_count": null,
   "id": "amateur-insulin",
   "metadata": {
    "ExecuteTime": {
     "end_time": "2022-06-12T06:39:00.857295Z",
     "start_time": "2022-06-12T06:39:00.854349Z"
    }
   },
   "outputs": [],
   "source": [
    "# dct에서 키가 'item'인 원소를 삭제합니다.\n",
    "del dct['item']\n",
    "dct"
   ]
  },
  {
   "cell_type": "code",
   "execution_count": null,
   "id": "sapphire-plaza",
   "metadata": {
    "ExecuteTime": {
     "end_time": "2022-06-12T06:39:00.862039Z",
     "start_time": "2022-06-12T06:39:00.858764Z"
    }
   },
   "outputs": [],
   "source": [
    "# dct에서 키가 'shop'인 값을 'A2'로 변경합니다.\n",
    "dct['shop'] = 'A2'\n",
    "dct"
   ]
  },
  {
   "cell_type": "markdown",
   "id": "electronic-henry",
   "metadata": {},
   "source": [
    "### 집합"
   ]
  },
  {
   "cell_type": "code",
   "execution_count": null,
   "id": "martial-compact",
   "metadata": {
    "ExecuteTime": {
     "end_time": "2022-06-12T06:39:00.884719Z",
     "start_time": "2022-06-12T06:39:00.881502Z"
    }
   },
   "outputs": [],
   "source": [
    "# 집합을 생성합니다. 집합을 생성할 때 중괄호 안에 원소를 콤마로 나열하며\n",
    "# 중복 원소를 제거하고 오름차순 정렬합니다.\n",
    "set1 = {3, 1, 2, 1}\n",
    "set1"
   ]
  },
  {
   "cell_type": "code",
   "execution_count": null,
   "id": "plastic-honduras",
   "metadata": {
    "ExecuteTime": {
     "end_time": "2022-06-12T06:39:00.889136Z",
     "start_time": "2022-06-12T06:39:00.886267Z"
    }
   },
   "outputs": [],
   "source": [
    "# set1의 클래스를 확인합니다. set1의 클래스는 set입니다.\n",
    "type(set1)"
   ]
  },
  {
   "cell_type": "code",
   "execution_count": null,
   "id": "55f83a5c",
   "metadata": {
    "scrolled": true
   },
   "outputs": [],
   "source": [
    "# set1의 속성과 방식을 리스트로 반환합니다.\n",
    "dir(set1)"
   ]
  },
  {
   "cell_type": "raw",
   "id": "45684ac1",
   "metadata": {},
   "source": [
    "# 집합에 인덱스가 없으므로 에러를 반환합니다.\n",
    "set1[0]"
   ]
  },
  {
   "cell_type": "code",
   "execution_count": null,
   "id": "satisfactory-gossip",
   "metadata": {
    "ExecuteTime": {
     "end_time": "2022-06-12T06:39:00.893774Z",
     "start_time": "2022-06-12T06:39:00.890726Z"
    }
   },
   "outputs": [],
   "source": [
    "# set() 클래스 함수는 리스트를 집합으로 변환합니다.\n",
    "set2 = set(lst3)\n",
    "set2"
   ]
  },
  {
   "cell_type": "code",
   "execution_count": null,
   "id": "0662875d",
   "metadata": {
    "ExecuteTime": {
     "end_time": "2022-06-12T06:39:00.898219Z",
     "start_time": "2022-06-12T06:39:00.895359Z"
    }
   },
   "outputs": [],
   "source": [
    "# list() 클래스 함수는 집합을 리스트로 변환합니다.\n",
    "list(set1)"
   ]
  },
  {
   "cell_type": "markdown",
   "id": "2b27ba9c",
   "metadata": {},
   "source": [
    "### 집합 연산자"
   ]
  },
  {
   "cell_type": "code",
   "execution_count": null,
   "id": "d8d385b4",
   "metadata": {
    "ExecuteTime": {
     "end_time": "2022-06-12T06:39:00.902712Z",
     "start_time": "2022-06-12T06:39:00.899857Z"
    }
   },
   "outputs": [],
   "source": [
    "# 두 집합의 교집합을 반환합니다.\n",
    "set1 & set2"
   ]
  },
  {
   "cell_type": "code",
   "execution_count": null,
   "id": "0583dbd6",
   "metadata": {},
   "outputs": [],
   "source": [
    "# 두 집합의 교집합을 반환합니다.\n",
    "set1.intersection(set2)"
   ]
  },
  {
   "cell_type": "code",
   "execution_count": null,
   "id": "1b78539c",
   "metadata": {
    "ExecuteTime": {
     "end_time": "2022-06-12T06:39:00.907280Z",
     "start_time": "2022-06-12T06:39:00.904268Z"
    }
   },
   "outputs": [],
   "source": [
    "# 두 집합의 합집합을 반환합니다.\n",
    "set1 | set2"
   ]
  },
  {
   "cell_type": "code",
   "execution_count": null,
   "id": "b8f013a6",
   "metadata": {},
   "outputs": [],
   "source": [
    "# 두 집합의 합집합을 반환합니다.\n",
    "set1.union(set2)"
   ]
  },
  {
   "cell_type": "code",
   "execution_count": null,
   "id": "badcb0a6",
   "metadata": {
    "ExecuteTime": {
     "end_time": "2022-06-12T06:39:00.911704Z",
     "start_time": "2022-06-12T06:39:00.908892Z"
    }
   },
   "outputs": [],
   "source": [
    "# 두 집합의 차집합을 반환합니다.\n",
    "set1 - set2"
   ]
  },
  {
   "cell_type": "code",
   "execution_count": null,
   "id": "92c00ba9",
   "metadata": {},
   "outputs": [],
   "source": [
    "# 두 집합의 차집합을 반환합니다.\n",
    "set1.difference(set2)"
   ]
  },
  {
   "cell_type": "markdown",
   "id": "emerging-stevens",
   "metadata": {},
   "source": [
    "### if 조건문"
   ]
  },
  {
   "cell_type": "code",
   "execution_count": null,
   "id": "written-import",
   "metadata": {},
   "outputs": [],
   "source": [
    "# 콘솔에서 값을 입력받고 변수에 문자열로 할당합니다.\n",
    "score = float(input('점수: '))"
   ]
  },
  {
   "cell_type": "code",
   "execution_count": null,
   "id": "moved-diamond",
   "metadata": {},
   "outputs": [],
   "source": [
    "# 조건문을 실행하고 점수에 따라 합격 여부를 출력합니다.\n",
    "if score >= 90:\n",
    "    print('합격')\n",
    "elif score >= 80:\n",
    "    print('재검사')\n",
    "else:\n",
    "    print('불합격')"
   ]
  },
  {
   "cell_type": "markdown",
   "id": "dominant-indian",
   "metadata": {},
   "source": [
    "### for 반복문"
   ]
  },
  {
   "cell_type": "code",
   "execution_count": null,
   "id": "experimental-forest",
   "metadata": {},
   "outputs": [],
   "source": [
    "# 중식당 메뉴로 리스트를 생성합니다.\n",
    "menu = ['짜장면', '탕수육', '깐풍기', '짬뽕', '전가복', '샥스핀']"
   ]
  },
  {
   "cell_type": "code",
   "execution_count": null,
   "id": "1dc99c50",
   "metadata": {},
   "outputs": [],
   "source": [
    "# 반복문 안에 조건문을 추가하여 코드를 제어합니다.\n",
    "for item in menu:\n",
    "    print(item, '시킬까요?')\n",
    "    if item in ['짜장면', '짬뽕']:\n",
    "        print('-> 요리부터 주문합시다!')\n",
    "    print('-> 다음 메뉴는 뭔가요?\\n')"
   ]
  },
  {
   "cell_type": "markdown",
   "id": "c4cbe765",
   "metadata": {},
   "source": [
    "### 반복문 실행 결과를 리스트로 생성"
   ]
  },
  {
   "cell_type": "code",
   "execution_count": null,
   "id": "3d9cc67b",
   "metadata": {},
   "outputs": [],
   "source": [
    "# for 반복문을 실행하기 전에 값을 저장할 빈 리스트를 미리 생성합니다.\n",
    "sqrs = []\n",
    "\n",
    "# 1~10의 정수를 차례대로 i에 할당하고 아래 코드를 반복 실행합니다.\n",
    "# i를 제곱한 값을 sqrs의 마지막 원소로 추가합니다.\n",
    "# [주의] sqrs를 미리 생성하지 않으면 에러를 반환합니다.\n",
    "for i in range(1, 11):\n",
    "    sqrs.append(i ** 2)\n",
    "    \n",
    "# sqrs를 출력합니다.\n",
    "sqrs"
   ]
  },
  {
   "cell_type": "code",
   "execution_count": null,
   "id": "73cda14b",
   "metadata": {},
   "outputs": [],
   "source": [
    "# sqrs를 다시 빈 리스트로 생성합니다.\n",
    "sqrs = []\n",
    "\n",
    "# 1~10의 정수에서 짝수만 제곱한 값을 원소로 갖는 리스트를 생성합니다.\n",
    "# i가 짝수일 때 i를 제곱한 값을 sqrs의 마지막 원소로 추가합니다.\n",
    "for i in range(1, 11):\n",
    "    if i % 2 == 0:\n",
    "        sqrs.append(i ** 2)\n",
    "    \n",
    "# sqrs를 출력합니다.\n",
    "sqrs"
   ]
  },
  {
   "cell_type": "markdown",
   "id": "noted-patent",
   "metadata": {},
   "source": [
    "### [참고] 리스트 컴프리헨션"
   ]
  },
  {
   "cell_type": "code",
   "execution_count": null,
   "id": "chinese-cathedral",
   "metadata": {},
   "outputs": [],
   "source": [
    "# 한 줄 코드로 for 반복문과 같은 결과를 반환합니다.\n",
    "# [참고] 빈 리스트를 미리 생성할 필요가 없습니다.\n",
    "[i ** 2 for i in range(1, 11)]"
   ]
  },
  {
   "cell_type": "code",
   "execution_count": null,
   "id": "russian-record",
   "metadata": {},
   "outputs": [],
   "source": [
    "# 반복문 뒤에 조건문을 추가하면 조건을 만족하는 원소만 리스트에 포함시킵니다.\n",
    "[i ** 2 for i in range(1, 11) if i % 2 == 0]"
   ]
  },
  {
   "cell_type": "markdown",
   "id": "6a0946ec",
   "metadata": {},
   "source": [
    "### zip() 함수 사용법"
   ]
  },
  {
   "cell_type": "code",
   "execution_count": null,
   "id": "40dbc623",
   "metadata": {},
   "outputs": [],
   "source": [
    "# zip() 함수는 지정한 여러 객체에서 같은 인덱스 원소 쌍을 튜플로 반환합니다.\n",
    "for i in zip(range(2, 10), range(1, 10)):\n",
    "    print(i)"
   ]
  },
  {
   "cell_type": "code",
   "execution_count": null,
   "id": "simplified-professor",
   "metadata": {},
   "outputs": [],
   "source": [
    "# 두 객체에서 같은 인덱스 원소를 i와 j로 받아서 반복문을 실행합니다.\n",
    "# [참고] 튜플 원소를 i와 j로 받도록 튜플을 언패킹합니다.\n",
    "for i, j in zip(range(2, 10), range(1, 10)):\n",
    "    print(f'{i} * {j} = {i*j}')"
   ]
  },
  {
   "cell_type": "markdown",
   "id": "7a6856fc",
   "metadata": {},
   "source": [
    "### enumerate() 함수 사용법"
   ]
  },
  {
   "cell_type": "code",
   "execution_count": null,
   "id": "93b659a5",
   "metadata": {},
   "outputs": [],
   "source": [
    "# enumerate() 함수는 지정한 객체의 인덱스와 원소 쌍을 튜플로 반환합니다.\n",
    "for i in enumerate(range(1, 11)):\n",
    "    print(i)"
   ]
  },
  {
   "cell_type": "code",
   "execution_count": null,
   "id": "2021ffe7",
   "metadata": {},
   "outputs": [],
   "source": [
    "# 객체의 인덱스와 원소를 i와 v로 받아서 반복문을 실행합니다.\n",
    "for i, v in enumerate(range(1, 11)):\n",
    "    print(f'{i}번 인덱스 원소는 {v}입니다.')"
   ]
  },
  {
   "cell_type": "markdown",
   "id": "accredited-asset",
   "metadata": {},
   "source": [
    "### while 반복문"
   ]
  },
  {
   "cell_type": "code",
   "execution_count": null,
   "id": "f460c279",
   "metadata": {},
   "outputs": [],
   "source": [
    "# i에 정수 5를 할당합니다.\n",
    "i = 5"
   ]
  },
  {
   "cell_type": "code",
   "execution_count": null,
   "id": "beginning-constitutional",
   "metadata": {},
   "outputs": [],
   "source": [
    "# while 반복문을 실행하여 i에서 1씩 차감한 값을 출력합니다.\n",
    "while i > 0:\n",
    "    print(i)\n",
    "    i -= 1\n",
    "\n",
    "# i를 출력합니다.\n",
    "print(i)"
   ]
  },
  {
   "cell_type": "code",
   "execution_count": null,
   "id": "8201e82b",
   "metadata": {},
   "outputs": [],
   "source": [
    "# while 반복문에서 break를 만나면 반복문을 중단합니다.\n",
    "while True:\n",
    "    i += 1\n",
    "    if i >= 10000:\n",
    "        break\n",
    "\n",
    "# i를 출력합니다.\n",
    "print(i)"
   ]
  },
  {
   "cell_type": "markdown",
   "id": "secret-equity",
   "metadata": {},
   "source": [
    "### 사용자 정의 함수"
   ]
  },
  {
   "cell_type": "code",
   "execution_count": null,
   "id": "knowing-combine",
   "metadata": {},
   "outputs": [],
   "source": [
    "# 체질량지수를 반환하는 사용자 정의 함수를 생성합니다.\n",
    "def BMI(hgt, wgt):\n",
    "    bmi = wgt / (hgt/100) ** 2\n",
    "    return bmi"
   ]
  },
  {
   "cell_type": "code",
   "execution_count": null,
   "id": "based-building",
   "metadata": {},
   "outputs": [],
   "source": [
    "# 매개변수 없이 인수만 지정하여 사용자 정의 함수를 실행합니다.\n",
    "BMI(175, 65)"
   ]
  },
  {
   "cell_type": "code",
   "execution_count": null,
   "id": "d1d2f1c8",
   "metadata": {},
   "outputs": [],
   "source": [
    "# 매개변수와 인수를 등호로 연결하면 위치를 바꿔도 실행 결과가 같습니다.\n",
    "BMI(hgt = 175, wgt = 65)"
   ]
  },
  {
   "cell_type": "markdown",
   "id": "alive-supply",
   "metadata": {},
   "source": [
    "## End of Document"
   ]
  }
 ],
 "metadata": {
  "kernelspec": {
   "display_name": "Python 3",
   "language": "python",
   "name": "python3"
  },
  "language_info": {
   "codemirror_mode": {
    "name": "ipython",
    "version": 3
   },
   "file_extension": ".py",
   "mimetype": "text/x-python",
   "name": "python",
   "nbconvert_exporter": "python",
   "pygments_lexer": "ipython3",
   "version": "3.10.4"
  },
  "toc": {
   "base_numbering": 1,
   "nav_menu": {},
   "number_sections": false,
   "sideBar": true,
   "skip_h1_title": false,
   "title_cell": "Table of Contents",
   "title_sidebar": "Contents",
   "toc_cell": false,
   "toc_position": {},
   "toc_section_display": true,
   "toc_window_display": false
  },
  "varInspector": {
   "cols": {
    "lenName": 16,
    "lenType": 16,
    "lenVar": 40
   },
   "kernels_config": {
    "python": {
     "delete_cmd_postfix": "",
     "delete_cmd_prefix": "del ",
     "library": "var_list.py",
     "varRefreshCmd": "print(var_dic_list())"
    },
    "r": {
     "delete_cmd_postfix": ") ",
     "delete_cmd_prefix": "rm(",
     "library": "var_list.r",
     "varRefreshCmd": "cat(var_dic_list()) "
    }
   },
   "types_to_exclude": [
    "module",
    "function",
    "builtin_function_or_method",
    "instance",
    "_Feature"
   ],
   "window_display": false
  }
 },
 "nbformat": 4,
 "nbformat_minor": 5
}
